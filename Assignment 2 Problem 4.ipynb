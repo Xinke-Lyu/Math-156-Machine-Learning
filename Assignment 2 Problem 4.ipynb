{
 "cells": [
  {
   "cell_type": "markdown",
   "metadata": {},
   "source": [
    "# Wine Quality Prediction with Linear Regression"
   ]
  },
  {
   "cell_type": "markdown",
   "metadata": {},
   "source": [
    "#### In this notebook, we train and evaluate linear regression models (using both the closed-form solution and gradient descent) on the Red Wine Quality dataset."
   ]
  },
  {
   "cell_type": "markdown",
   "metadata": {},
   "source": [
    "## Step 1: Imports and setup"
   ]
  },
  {
   "cell_type": "code",
   "execution_count": 1,
   "metadata": {},
   "outputs": [],
   "source": [
    "import numpy as np\n",
    "import pandas as pd\n",
    "import matplotlib.pyplot as plt\n",
    "from sklearn.model_selection import train_test_split\n"
   ]
  },
  {
   "cell_type": "markdown",
   "metadata": {},
   "source": [
    "## Step 2: (b) Load data and split into train/test"
   ]
  },
  {
   "cell_type": "code",
   "execution_count": 2,
   "metadata": {},
   "outputs": [
    {
     "data": {
      "text/html": [
       "<div>\n",
       "<style scoped>\n",
       "    .dataframe tbody tr th:only-of-type {\n",
       "        vertical-align: middle;\n",
       "    }\n",
       "\n",
       "    .dataframe tbody tr th {\n",
       "        vertical-align: top;\n",
       "    }\n",
       "\n",
       "    .dataframe thead th {\n",
       "        text-align: right;\n",
       "    }\n",
       "</style>\n",
       "<table border=\"1\" class=\"dataframe\">\n",
       "  <thead>\n",
       "    <tr style=\"text-align: right;\">\n",
       "      <th></th>\n",
       "      <th>fixed acidity</th>\n",
       "      <th>volatile acidity</th>\n",
       "      <th>citric acid</th>\n",
       "      <th>residual sugar</th>\n",
       "      <th>chlorides</th>\n",
       "      <th>free sulfur dioxide</th>\n",
       "      <th>total sulfur dioxide</th>\n",
       "      <th>density</th>\n",
       "      <th>pH</th>\n",
       "      <th>sulphates</th>\n",
       "      <th>alcohol</th>\n",
       "      <th>quality</th>\n",
       "    </tr>\n",
       "  </thead>\n",
       "  <tbody>\n",
       "    <tr>\n",
       "      <th>0</th>\n",
       "      <td>7.4</td>\n",
       "      <td>0.70</td>\n",
       "      <td>0.00</td>\n",
       "      <td>1.9</td>\n",
       "      <td>0.076</td>\n",
       "      <td>11.0</td>\n",
       "      <td>34.0</td>\n",
       "      <td>0.9978</td>\n",
       "      <td>3.51</td>\n",
       "      <td>0.56</td>\n",
       "      <td>9.4</td>\n",
       "      <td>5</td>\n",
       "    </tr>\n",
       "    <tr>\n",
       "      <th>1</th>\n",
       "      <td>7.8</td>\n",
       "      <td>0.88</td>\n",
       "      <td>0.00</td>\n",
       "      <td>2.6</td>\n",
       "      <td>0.098</td>\n",
       "      <td>25.0</td>\n",
       "      <td>67.0</td>\n",
       "      <td>0.9968</td>\n",
       "      <td>3.20</td>\n",
       "      <td>0.68</td>\n",
       "      <td>9.8</td>\n",
       "      <td>5</td>\n",
       "    </tr>\n",
       "    <tr>\n",
       "      <th>2</th>\n",
       "      <td>7.8</td>\n",
       "      <td>0.76</td>\n",
       "      <td>0.04</td>\n",
       "      <td>2.3</td>\n",
       "      <td>0.092</td>\n",
       "      <td>15.0</td>\n",
       "      <td>54.0</td>\n",
       "      <td>0.9970</td>\n",
       "      <td>3.26</td>\n",
       "      <td>0.65</td>\n",
       "      <td>9.8</td>\n",
       "      <td>5</td>\n",
       "    </tr>\n",
       "    <tr>\n",
       "      <th>3</th>\n",
       "      <td>11.2</td>\n",
       "      <td>0.28</td>\n",
       "      <td>0.56</td>\n",
       "      <td>1.9</td>\n",
       "      <td>0.075</td>\n",
       "      <td>17.0</td>\n",
       "      <td>60.0</td>\n",
       "      <td>0.9980</td>\n",
       "      <td>3.16</td>\n",
       "      <td>0.58</td>\n",
       "      <td>9.8</td>\n",
       "      <td>6</td>\n",
       "    </tr>\n",
       "    <tr>\n",
       "      <th>4</th>\n",
       "      <td>7.4</td>\n",
       "      <td>0.70</td>\n",
       "      <td>0.00</td>\n",
       "      <td>1.9</td>\n",
       "      <td>0.076</td>\n",
       "      <td>11.0</td>\n",
       "      <td>34.0</td>\n",
       "      <td>0.9978</td>\n",
       "      <td>3.51</td>\n",
       "      <td>0.56</td>\n",
       "      <td>9.4</td>\n",
       "      <td>5</td>\n",
       "    </tr>\n",
       "  </tbody>\n",
       "</table>\n",
       "</div>"
      ],
      "text/plain": [
       "   fixed acidity  volatile acidity  citric acid  residual sugar  chlorides  \\\n",
       "0            7.4              0.70         0.00             1.9      0.076   \n",
       "1            7.8              0.88         0.00             2.6      0.098   \n",
       "2            7.8              0.76         0.04             2.3      0.092   \n",
       "3           11.2              0.28         0.56             1.9      0.075   \n",
       "4            7.4              0.70         0.00             1.9      0.076   \n",
       "\n",
       "   free sulfur dioxide  total sulfur dioxide  density    pH  sulphates  \\\n",
       "0                 11.0                  34.0   0.9978  3.51       0.56   \n",
       "1                 25.0                  67.0   0.9968  3.20       0.68   \n",
       "2                 15.0                  54.0   0.9970  3.26       0.65   \n",
       "3                 17.0                  60.0   0.9980  3.16       0.58   \n",
       "4                 11.0                  34.0   0.9978  3.51       0.56   \n",
       "\n",
       "   alcohol  quality  \n",
       "0      9.4        5  \n",
       "1      9.8        5  \n",
       "2      9.8        5  \n",
       "3      9.8        6  \n",
       "4      9.4        5  "
      ]
     },
     "metadata": {},
     "output_type": "display_data"
    },
    {
     "name": "stdout",
     "output_type": "stream",
     "text": [
      "Shape: (1599, 12)\n",
      "Columns: Index(['fixed acidity', 'volatile acidity', 'citric acid', 'residual sugar',\n",
      "       'chlorides', 'free sulfur dioxide', 'total sulfur dioxide', 'density',\n",
      "       'pH', 'sulphates', 'alcohol', 'quality'],\n",
      "      dtype='object')\n"
     ]
    }
   ],
   "source": [
    "data = pd.read_csv(\"winequality-red.csv\", delimiter=\";\")\n",
    "data.columns = data.columns.str.strip()\n",
    "display(data.head())\n",
    "print(\"Shape:\", data.shape)\n",
    "print(\"Columns:\", data.columns)\n",
    "\n",
    "X = data.drop(\"quality\", axis=1).values\n",
    "y = data[\"quality\"].values\n",
    "\n",
    "X_train, X_test, y_train, y_test = train_test_split(\n",
    "    X, y, test_size=0.2, random_state=42\n",
    ")\n"
   ]
  },
  {
   "cell_type": "markdown",
   "metadata": {},
   "source": [
    "## Step 3: (c) Using the closed-form solution"
   ]
  },
  {
   "cell_type": "code",
   "execution_count": 3,
   "metadata": {},
   "outputs": [
    {
     "name": "stdout",
     "output_type": "stream",
     "text": [
      "Closed-form weights: [ 1.43551052e+01  2.30853339e-02 -1.00130443e+00 -1.40821461e-01\n",
      "  6.56431105e-03 -1.80650315e+00  5.62733439e-03 -3.64444893e-03\n",
      " -1.03515936e+01 -3.93687732e-01  8.41171623e-01  2.81889567e-01]\n"
     ]
    }
   ],
   "source": [
    "ones = np.ones((X_train.shape[0], 1))\n",
    "X_train_aug = np.hstack([ones, X_train])\n",
    "# Compute (X^T X)\n",
    "XTX = X_train_aug.T @ X_train_aug\n",
    "\n",
    "# Compute (X^T y)\n",
    "XTy = X_train_aug.T @ y_train\n",
    "\n",
    "# Solve for w\n",
    "w_closed_form = np.linalg.solve(XTX, XTy)\n",
    "print(\"Closed-form weights:\", w_closed_form)\n"
   ]
  },
  {
   "cell_type": "markdown",
   "metadata": {},
   "source": [
    "## Step 4: (d) Plot of the actual target values and predicted target values"
   ]
  },
  {
   "cell_type": "code",
   "execution_count": 4,
   "metadata": {},
   "outputs": [
    {
     "data": {
      "image/png": "[encoded data removed]",
      "text/plain": [
       "<Figure size 600x600 with 1 Axes>"
      ]
     },
     "metadata": {},
     "output_type": "display_data"
    }
   ],
   "source": [
    "y_train_pred = X_train_aug @ w_closed_form\n",
    "\n",
    "# Scatter plot: Actual vs Predicted\n",
    "plt.figure(figsize=(6, 6))\n",
    "plt.scatter(y_train, y_train_pred, alpha=0.6)\n",
    "plt.xlabel(\"Actual Quality\")\n",
    "plt.ylabel(\"Predicted Quality\")\n",
    "plt.title(\"Actual vs Predicted Quality (Train Set)\")\n",
    "\n",
    "# Plot y = x reference line\n",
    "plt.plot([y_train.min(), y_train.max()], [y_train.min(), y_train.max()], 'r--')\n",
    "plt.grid(True)\n",
    "plt.show()\n"
   ]
  },
  {
   "cell_type": "markdown",
   "metadata": {},
   "source": [
    "## Step 5: (e) Report the root-mean-square on the train and test sets"
   ]
  },
  {
   "cell_type": "code",
   "execution_count": 5,
   "metadata": {},
   "outputs": [
    {
     "name": "stdout",
     "output_type": "stream",
     "text": [
      "Train RMSE: 0.6512995910592836\n",
      "Test RMSE:  0.6245199307969643\n"
     ]
    }
   ],
   "source": [
    "# Define the RMSE Function\n",
    "def rmse(y_true, y_pred):\n",
    "    return np.sqrt(np.mean((y_true - y_pred) ** 2))\n",
    "\n",
    "# Augmented design matrices and predictions\n",
    "X_test_aug  = np.hstack([np.ones((X_test.shape[0], 1)),  X_test])\n",
    "y_test_pred  = X_test_aug  @ w_closed_form\n",
    "\n",
    "train_rmse = rmse(y_train, y_train_pred)\n",
    "test_rmse  = rmse(y_test,  y_test_pred)\n",
    "\n",
    "print(\"Train RMSE:\", train_rmse)\n",
    "print(\"Test RMSE: \", test_rmse)\n"
   ]
  },
  {
   "cell_type": "markdown",
   "metadata": {},
   "source": [
    "The root-mean-square error (RMSE) on the training set is approximately 0.6513, while the RMSE on the test set is approximately 0.6245. The closeness of these values suggests that the model generalizes reasonably well to unseen data, with no significant overfitting or underfitting."
   ]
  },
  {
   "cell_type": "markdown",
   "metadata": {},
   "source": [
    "## Step 6: (f) Split the train set into a smaller train set and a validation set"
   ]
  },
  {
   "cell_type": "code",
   "execution_count": 6,
   "metadata": {},
   "outputs": [],
   "source": [
    "from sklearn.preprocessing import StandardScaler\n",
    "scaler = StandardScaler()\n",
    "X_scaled = scaler.fit_transform(X)\n",
    "\n",
    "# Split full data into temp (90%) and test (10%)\n",
    "X_temp, X_test, y_temp, y_test = train_test_split(\n",
    "    X_scaled, y, test_size=0.10, random_state=42\n",
    ")\n",
    "\n",
    "# Split temp (90%) into train (75%) and val (15%)\n",
    "X_train, X_val, y_train, y_val = train_test_split(\n",
    "    X_temp, y_temp, test_size=1/6, random_state=42\n",
    ")\n",
    "\n",
    "# 4. Add intercept terms (manually)\n",
    "X_train_aug = np.hstack([np.ones((X_train.shape[0], 1)), X_train])\n",
    "X_val_aug   = np.hstack([np.ones((X_val.shape[0], 1)),   X_val])\n",
    "X_test_aug  = np.hstack([np.ones((X_test.shape[0], 1)),  X_test])"
   ]
  },
  {
   "cell_type": "markdown",
   "metadata": {},
   "source": [
    "## Step 7: (g) Implement the least-mean-squares algorithm"
   ]
  },
  {
   "cell_type": "code",
   "execution_count": 7,
   "metadata": {},
   "outputs": [],
   "source": [
    "def lms_gradient_descent(X, y, w_init, eta, max_iter=1000, verbose=False):\n",
    "    w = w_init.copy()\n",
    "    losses = []\n",
    "\n",
    "    for i in range(max_iter):\n",
    "        y_pred = X @ w                         # prediction\n",
    "        gradient = X.T @ (y_pred - y)          # gradient\n",
    "        w -= eta * gradient                    # update step\n",
    "\n",
    "        loss = 0.5 * np.mean((y_pred - y)**2)  # track MSE\n",
    "        losses.append(loss)\n",
    "\n",
    "        if verbose and i % 100 == 0:\n",
    "            print(f\"Iter {i:4d} | Loss: {loss:.4f}\")\n",
    "\n",
    "    return w, losses\n"
   ]
  },
  {
   "cell_type": "markdown",
   "metadata": {},
   "source": [
    "## Step 8: (h) Use the validation set to select an appropriate step size $\\eta$"
   ]
  },
  {
   "cell_type": "code",
   "execution_count": 8,
   "metadata": {},
   "outputs": [
    {
     "name": "stdout",
     "output_type": "stream",
     "text": [
      "η = 1e-05 → Validation RMSE = 0.6295\n",
      "η = 3e-05 → Validation RMSE = 0.6019\n",
      "η = 1e-04 → Validation RMSE = 0.6016\n",
      "η = 3e-04 → Validation RMSE = 0.6016\n",
      "η = 5e-04 → Validation RMSE = 0.6016\n",
      "η = 6e-04 → Validation RMSE = 6156319045121166661010775686980810125100887094195520369674898295198996832069020981133312.0000\n",
      "η = 7e-04 → Validation RMSE = inf\n",
      "η = 1e-03 → Validation RMSE = nan\n",
      "η = 3e-03 → Validation RMSE = nan\n",
      "\n",
      " Best η selected: 0.0001 with validation RMSE = 0.6016\n"
     ]
    },
    {
     "name": "stderr",
     "output_type": "stream",
     "text": [
      "/Library/Frameworks/Python.framework/Versions/3.11/lib/python3.11/site-packages/numpy/core/_methods.py:118: RuntimeWarning: overflow encountered in reduce\n",
      "  ret = umr_sum(arr, axis, dtype, out, keepdims, where=where)\n",
      "/var/folders/xr/m551d0ds2399b7q4w_r7m08w0000gn/T/ipykernel_58072/2679899615.py:10: RuntimeWarning: overflow encountered in square\n",
      "  loss = 0.5 * np.mean((y_pred - y)**2)  # track MSE\n",
      "/var/folders/xr/m551d0ds2399b7q4w_r7m08w0000gn/T/ipykernel_58072/692983333.py:3: RuntimeWarning: overflow encountered in square\n",
      "  return np.sqrt(np.mean((y_true - y_pred) ** 2))\n",
      "/var/folders/xr/m551d0ds2399b7q4w_r7m08w0000gn/T/ipykernel_58072/2679899615.py:7: RuntimeWarning: overflow encountered in matmul\n",
      "  gradient = X.T @ (y_pred - y)          # gradient\n",
      "/var/folders/xr/m551d0ds2399b7q4w_r7m08w0000gn/T/ipykernel_58072/2679899615.py:6: RuntimeWarning: invalid value encountered in matmul\n",
      "  y_pred = X @ w                         # prediction\n"
     ]
    }
   ],
   "source": [
    "# Define candidate sets\n",
    "etas = [1e-5, 3e-5, 1e-4, 3e-4, 5e-4, 6e-4, 7e-4, 1e-3, 3e-3]\n",
    "\n",
    "# Randomly initialize w^0\n",
    "np.random.seed(42) \n",
    "w0_dist = np.random.randn(X_train.shape[1] + 1)  # +1 for intercept term\n",
    "\n",
    "best_eta = None\n",
    "best_val_rmse = float(\"inf\")\n",
    "rmse_results = {}\n",
    "\n",
    "for eta in etas:\n",
    "    w_init = np.random.randn(X_train.shape[1] + 1)  # fresh init per trial\n",
    "    w_eta, _ = lms_gradient_descent(X_train_aug, y_train, w_init, eta, max_iter=1000)\n",
    "\n",
    "    y_val_pred = X_val_aug @ w_eta\n",
    "    val_rmse = rmse(y_val, y_val_pred)\n",
    "\n",
    "    rmse_results[eta] = val_rmse\n",
    "    print(f\"η = {eta:.0e} → Validation RMSE = {val_rmse:.4f}\")\n",
    "\n",
    "    if val_rmse < best_val_rmse:\n",
    "        best_val_rmse = val_rmse\n",
    "        best_eta = eta\n",
    "\n",
    "print(f\"\\n Best η selected: {best_eta} with validation RMSE = {best_val_rmse:.4f}\")\n",
    "\n"
   ]
  },
  {
   "cell_type": "markdown",
   "metadata": {},
   "source": [
    "Therefore, we should choose $\\eta=0.0001$, which leads to Validation RMSE = 0.6016."
   ]
  },
  {
   "cell_type": "markdown",
   "metadata": {},
   "source": [
    "## Step 9: (i) Train the model on the complete train set with selected $\\eta$"
   ]
  },
  {
   "cell_type": "code",
   "execution_count": 9,
   "metadata": {},
   "outputs": [],
   "source": [
    "# Combine original train and validation sets\n",
    "X_full_train = np.vstack([X_train, X_val])\n",
    "y_full_train = np.concatenate([y_train, y_val])\n",
    "\n",
    "# Add intercept term (column of 1s)\n",
    "X_full_train_aug = np.hstack([np.ones((X_full_train.shape[0], 1)), X_full_train])\n",
    "\n",
    "# Random initialization for w(0)\n",
    "np.random.seed(0)\n",
    "w_init_final = np.random.randn(X_full_train_aug.shape[1])\n",
    "\n",
    "# Train LMS using selected eta and full training data\n",
    "best_eta = 0.0001 \n",
    "w_final, loss_history = lms_gradient_descent(\n",
    "    X_full_train_aug, y_full_train, w_init_final, best_eta, max_iter=1000\n",
    ")\n"
   ]
  },
  {
   "cell_type": "markdown",
   "metadata": {},
   "source": [
    "## Step 10: (j)  Report the root-mean-square error on train and test sets"
   ]
  },
  {
   "cell_type": "code",
   "execution_count": 10,
   "metadata": {},
   "outputs": [
    {
     "name": "stdout",
     "output_type": "stream",
     "text": [
      "Train RMSE: 0.6486\n",
      "Test  RMSE: 0.6194\n"
     ]
    }
   ],
   "source": [
    "# Augment X_test with intercept term\n",
    "X_test_aug = np.hstack([np.ones((X_test.shape[0], 1)), X_test])\n",
    "\n",
    "def rmse(y_true, y_pred):\n",
    "    return np.sqrt(np.mean((y_true - y_pred) ** 2))\n",
    "\n",
    "# Predictions\n",
    "y_train_pred = X_full_train_aug @ w_final\n",
    "y_test_pred  = X_test_aug @ w_final\n",
    "\n",
    "# RMSEs\n",
    "train_rmse = rmse(y_full_train, y_train_pred)\n",
    "test_rmse  = rmse(y_test, y_test_pred)\n",
    "\n",
    "print(f\"Train RMSE: {train_rmse:.4f}\")\n",
    "print(f\"Test  RMSE: {test_rmse:.4f}\")\n"
   ]
  },
  {
   "cell_type": "markdown",
   "metadata": {},
   "source": [
    "After training the final LMS model on the full training set using $\\eta=0.0001$, we evaluated the RMSE on both the training and test sets. The results are \n",
    "\n",
    "Train RMSE: 0.6486 and Test  RMSE: 0.6194."
   ]
  }
 ],
 "metadata": {
  "kernelspec": {
   "display_name": "Python 3",
   "language": "python",
   "name": "python3"
  },
  "language_info": {
   "codemirror_mode": {
    "name": "ipython",
    "version": 3
   },
   "file_extension": ".py",
   "mimetype": "text/x-python",
   "name": "python",
   "nbconvert_exporter": "python",
   "pygments_lexer": "ipython3",
   "version": "3.11.5"
  }
 },
 "nbformat": 4,
 "nbformat_minor": 2
}
